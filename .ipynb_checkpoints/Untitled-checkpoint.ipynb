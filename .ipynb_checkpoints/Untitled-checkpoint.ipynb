{
 "cells": [
  {
   "cell_type": "code",
   "execution_count": 11,
   "metadata": {},
   "outputs": [
    {
     "name": "stdout",
     "output_type": "stream",
     "text": [
      "Entrez une hauteur : 5\n",
      "Entrez un rayon : 6\n",
      "Volume cone droit : 98.69604401089359\n"
     ]
    }
   ],
   "source": [
    "from math import *\n",
    "hauteur = float(input(\"Entrez une hauteur : \"))\n",
    "rayon = float(input(\"Entrez un rayon : \"))\n",
    "volume = (pi**2)*rayon*(hauteur/3)\n",
    "print(\"Volume cone droit : \"+ str(volume) )"
   ]
  },
  {
   "cell_type": "code",
   "execution_count": 14,
   "metadata": {},
   "outputs": [
    {
     "name": "stdout",
     "output_type": "stream",
     "text": [
      "Entrez un entier : 3\n",
      "Somme : 6\n"
     ]
    }
   ],
   "source": [
    "from math import *\n",
    "entier = int(input(\"Entrez un entier : \"))\n",
    "somme = 0\n",
    "i = 0\n",
    "while i<entier:\n",
    "    i = i +1\n",
    "    somme = somme + i\n",
    "print(\"Somme : \" + str(somme))"
   ]
  },
  {
   "cell_type": "code",
   "execution_count": 15,
   "metadata": {},
   "outputs": [
    {
     "name": "stdout",
     "output_type": "stream",
     "text": [
      "Entrez un entier : 2\n",
      "Somme : 9\n"
     ]
    }
   ],
   "source": [
    "from math import *\n",
    "entier = int(input(\"Entrez un entier : \"))\n",
    "somme = 0\n",
    "i = 0\n",
    "while i<entier:\n",
    "    i = i +1\n",
    "    somme = somme + i**3\n",
    "print(\"Somme cube : \" + str(somme))"
   ]
  },
  {
   "cell_type": "code",
   "execution_count": 16,
   "metadata": {},
   "outputs": [
    {
     "name": "stdout",
     "output_type": "stream",
     "text": [
      "Entrez un nombre : 131\n",
      "Entrez le chiffre à trouver1\n",
      "2\n"
     ]
    }
   ],
   "source": [
    "nombre = input(\"Entrez un nombre : \")\n",
    "valeur = input(\"Entrez le chiffre à trouver\")\n",
    "compteur_valeur = nombre.count(valeur)\n",
    "print(compteur_valeur)"
   ]
  },
  {
   "cell_type": "code",
   "execution_count": 23,
   "metadata": {},
   "outputs": [
    {
     "name": "stdout",
     "output_type": "stream",
     "text": [
      "Entrez un entier : 2815\n",
      "5*1\n",
      "1*10\n",
      "8*100\n",
      "2*1000\n"
     ]
    }
   ],
   "source": [
    "entier = input(\"Entrez un entier : \")[::-1]\n",
    "ok = 1;\n",
    "for chiffre in entier:\n",
    "    print(str(chiffre) + '*' + str(ok))\n",
    "    ok=ok*10"
   ]
  },
  {
   "cell_type": "code",
   "execution_count": null,
   "metadata": {},
   "outputs": [],
   "source": []
  }
 ],
 "metadata": {
  "kernelspec": {
   "display_name": "Python 3",
   "language": "python",
   "name": "python3"
  },
  "language_info": {
   "codemirror_mode": {
    "name": "ipython",
    "version": 3
   },
   "file_extension": ".py",
   "mimetype": "text/x-python",
   "name": "python",
   "nbconvert_exporter": "python",
   "pygments_lexer": "ipython3",
   "version": "3.7.6"
  }
 },
 "nbformat": 4,
 "nbformat_minor": 4
}
